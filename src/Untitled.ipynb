{
 "cells": [
  {
   "cell_type": "code",
   "execution_count": 59,
   "metadata": {},
   "outputs": [],
   "source": [
    "import pandas as pd\n",
    "import json\n",
    "import re\n",
    "from bs4 import BeautifulSoup\n",
    "from urllib.request import urlopen"
   ]
  },
  {
   "cell_type": "code",
   "execution_count": 74,
   "metadata": {},
   "outputs": [],
   "source": [
    "soup = BeautifulSoup(urlopen(\"http://officequotes.net/no2-10.php\"), 'lxml')"
   ]
  },
  {
   "cell_type": "code",
   "execution_count": 77,
   "metadata": {},
   "outputs": [
    {
     "data": {
      "text/plain": [
       "['\\n',\n",
       " 'Deleted Scene 14',\n",
       " '\\n',\n",
       " '&nbsp',\n",
       " '\\n',\n",
       " 'Angela:',\n",
       " ' You behaved very badly tonight.',\n",
       " '\\n',\n",
       " 'Kelly:',\n",
       " ' Sorry?',\n",
       " '\\n']"
      ]
     },
     "execution_count": 77,
     "metadata": {},
     "output_type": "execute_result"
    }
   ],
   "source": [
    "all_quotes = soup.find_all('div', class_='quote')\n",
    "list(all_quotes[-2].strings)"
   ]
  },
  {
   "cell_type": "code",
   "execution_count": 68,
   "metadata": {},
   "outputs": [
    {
     "data": {
      "text/plain": [
       "['\\n',\n",
       " 'Stanley:',\n",
       " \" I don't want to stay until seven again this year.\",\n",
       " '\\n',\n",
       " 'Pam:',\n",
       " \" I don't really have any control over that Stanley.\",\n",
       " '\\n']"
      ]
     },
     "execution_count": 68,
     "metadata": {},
     "output_type": "execute_result"
    }
   ],
   "source": [
    "list(all_quotes[3].strings)"
   ]
  },
  {
   "cell_type": "code",
   "execution_count": 2,
   "metadata": {},
   "outputs": [],
   "source": [
    "def clean(s):\n",
    "    \"\"\"Remove described actions, whitespace padding, and colons from strings.\"\"\"\n",
    "    while s.find(\"[\")>-1:\n",
    "        start = s.find(\"[\")\n",
    "        end = s.find(\"]\")+1\n",
    "        s = s[:start] + s[end:]\n",
    "    s = s.strip()\n",
    "    s = s.replace(':', '')\n",
    "    \n",
    "    return s\n",
    "\n",
    "\n",
    "def extract_conversation(element):\n",
    "    \"\"\"Return list of character-line pairs from element.\"\"\"\n",
    "    element_strs = list(element.strings)\n",
    "    conversation = list(filter(lambda s: s!= '\\n', element_strs))\n",
    "    cleaned = list(map(clean, conversation))\n",
    "    lines = [(cleaned[i], cleaned[i+1]) for i in range(0, len(cleaned), 2)]\n",
    "    \n",
    "    return lines\n",
    "\n",
    "def extract_season_episode(s):\n",
    "    \"\"\"Return season and episode number in a tuple.\"\"\"\n",
    "    season = s[-8]\n",
    "    episode = s[-6:-4]\n",
    "    return season, episode\n",
    "    "
   ]
  },
  {
   "cell_type": "code",
   "execution_count": 3,
   "metadata": {},
   "outputs": [],
   "source": [
    "with open(\"../data/lines.json\", \"r\") as f:\n",
    "    lines = json.load(f)"
   ]
  },
  {
   "cell_type": "code",
   "execution_count": null,
   "metadata": {},
   "outputs": [],
   "source": [
    "def speaker_line_format():\n",
    "    "
   ]
  },
  {
   "cell_type": "code",
   "execution_count": 24,
   "metadata": {},
   "outputs": [
    {
     "data": {
      "text/plain": [
       "['Michael:',\n",
       " ' No need for consternation, everything is under control.',\n",
       " 'Jan:',\n",
       " ' Michael, last Friday one of your employees attacked another employee in your office!',\n",
       " 'Michael:',\n",
       " ' It was a crime of passion, Jan, not a disgruntled employee. Everyone here is extremely gruntled.  ',\n",
       " 'Jan:',\n",
       " ' [sigh] Is Toby there?',\n",
       " 'Michael:',\n",
       " ' No...',\n",
       " 'Toby:',\n",
       " \" I'm... here, Jan.\",\n",
       " 'Jan:',\n",
       " ' Ok, what... what is the situation Toby?',\n",
       " 'Toby:',\n",
       " \" Well, we fired Roy, obviously.  And Jim won't press charges against Roy or the company.\",\n",
       " 'Jan:',\n",
       " ' Thank God.',\n",
       " 'Toby:',\n",
       " ' Yeah, um, but now apparently Darryl has some issue with his...',\n",
       " 'Michael:',\n",
       " \" No, he has been wanting a raise for a couple of months and he's just using this Roy thing as leverage.  \",\n",
       " 'Jan:',\n",
       " ' All right, well are you gonna take care of this?',\n",
       " 'Michael:',\n",
       " ' Yeppers.',\n",
       " 'Jan:',\n",
       " ' What did I tell you about \"yeppers?\"',\n",
       " 'Michael:',\n",
       " \" I don't... remember.\",\n",
       " 'Jan:',\n",
       " ' I told you not to say it.  Do you remember that?',\n",
       " 'Michael:',\n",
       " ' Yeesh...']"
      ]
     },
     "execution_count": 24,
     "metadata": {},
     "output_type": "execute_result"
    }
   ],
   "source": [
    "x = lines[2]['conversation']\n",
    "x"
   ]
  },
  {
   "cell_type": "code",
   "execution_count": 54,
   "metadata": {
    "scrolled": true
   },
   "outputs": [],
   "source": [
    "xx = ''.join(x)\n",
    "xxx = re.split('(\\w+:)', xx)"
   ]
  },
  {
   "cell_type": "code",
   "execution_count": 57,
   "metadata": {},
   "outputs": [
    {
     "data": {
      "text/plain": [
       "['',\n",
       " 'Michael:',\n",
       " 'No need for consternation, everything is under control.',\n",
       " 'Jan:',\n",
       " 'Michael, last Friday one of your employees attacked another employee in your office!',\n",
       " 'Michael:',\n",
       " 'It was a crime of passion, Jan, not a disgruntled employee. Everyone here is extremely gruntled.',\n",
       " 'Jan:',\n",
       " '[sigh] Is Toby there?',\n",
       " 'Michael:',\n",
       " 'No...',\n",
       " 'Toby:',\n",
       " \"I'm... here, Jan.\",\n",
       " 'Jan:',\n",
       " 'Ok, what... what is the situation Toby?',\n",
       " 'Toby:',\n",
       " \"Well, we fired Roy, obviously.  And Jim won't press charges against Roy or the company.\",\n",
       " 'Jan:',\n",
       " 'Thank God.',\n",
       " 'Toby:',\n",
       " 'Yeah, um, but now apparently Darryl has some issue with his...',\n",
       " 'Michael:',\n",
       " \"No, he has been wanting a raise for a couple of months and he's just using this Roy thing as leverage.\",\n",
       " 'Jan:',\n",
       " 'All right, well are you gonna take care of this?',\n",
       " 'Michael:',\n",
       " 'Yeppers.',\n",
       " 'Jan:',\n",
       " 'What did I tell you about \"yeppers?\"',\n",
       " 'Michael:',\n",
       " \"I don't... remember.\",\n",
       " 'Jan:',\n",
       " 'I told you not to say it.  Do you remember that?',\n",
       " 'Michael:',\n",
       " 'Yeesh...']"
      ]
     },
     "execution_count": 57,
     "metadata": {},
     "output_type": "execute_result"
    }
   ],
   "source": [
    "list(map(lambda s: s.strip(),xxx))"
   ]
  },
  {
   "cell_type": "code",
   "execution_count": 51,
   "metadata": {},
   "outputs": [
    {
     "data": {
      "text/plain": [
       "' '"
      ]
     },
     "execution_count": 51,
     "metadata": {},
     "output_type": "execute_result"
    }
   ],
   "source": [
    "re.split('(\\W)', xxx[4])"
   ]
  },
  {
   "cell_type": "code",
   "execution_count": 42,
   "metadata": {},
   "outputs": [
    {
     "data": {
      "text/plain": [
       "['leahciM', 'ereht', 'yboT', 'sI', '', 'hgis', '', '']"
      ]
     },
     "execution_count": 42,
     "metadata": {},
     "output_type": "execute_result"
    }
   ],
   "source": [
    "re.split('\\W', xxx[4][::-1])"
   ]
  },
  {
   "cell_type": "code",
   "execution_count": 14,
   "metadata": {},
   "outputs": [
    {
     "data": {
      "text/plain": [
       "\"Karen: So do you want to see it or not?Jim: I don't know.  Feel like... Friday night crowds...Karen: Oh my God, you're like, agoraphobic.Jim: Agoraphobic?Karen: Yeah.Jim: Really?Karen: Yeah!  You would rather sit on your couch and watch a Phillies game, than go out to a movie with your awesome girlfriend.Jim: Absolutely correct.Kevin: Later, Jim.Jim: Kev, have a good weekend.Karen: Bye.  Ok, so this is what's gonna happen.  You're gonna suck it up.Jim: Here we go...Karen: ...and we're gonna go to dinner.Jim: Ok...Karen: And then we're gonna go to the movies.Jim: Sounds good.Roy: Hey Halpert!Jim: Hey... [Roy lunges towards Jim]Pam: ROY!Karen: [shrieks]Pam: Roy don't! [Dwight pepper-sprays Roy]Roy: [screams in pain] Ahh God!Dwight: Pam, please call security!\""
      ]
     },
     "execution_count": 14,
     "metadata": {},
     "output_type": "execute_result"
    }
   ],
   "source": [
    "''.join(x)"
   ]
  },
  {
   "cell_type": "code",
   "execution_count": 44,
   "metadata": {},
   "outputs": [],
   "source": [
    "not_even = []\n",
    "ind = 0\n",
    "for i in lines:\n",
    "    if len(i['conversation'])%2 != 0:\n",
    "        not_even.append(ind)\n",
    "    ind += 1"
   ]
  },
  {
   "cell_type": "code",
   "execution_count": 57,
   "metadata": {},
   "outputs": [
    {
     "data": {
      "text/plain": [
       "112"
      ]
     },
     "execution_count": 57,
     "metadata": {},
     "output_type": "execute_result"
    }
   ],
   "source": [
    "len(not_even)"
   ]
  },
  {
   "cell_type": "code",
   "execution_count": 51,
   "metadata": {},
   "outputs": [
    {
     "data": {
      "text/plain": [
       "[935, 937, 970, 993, 1085, 1098, 1100, 1102, 1465, 1472]"
      ]
     },
     "execution_count": 51,
     "metadata": {},
     "output_type": "execute_result"
    }
   ],
   "source": [
    "not_even[:10]"
   ]
  },
  {
   "cell_type": "code",
   "execution_count": 56,
   "metadata": {},
   "outputs": [
    {
     "data": {
      "text/plain": [
       "['\\n[Pam hesitates but puts the DVD into the laptop to watch]\\n']"
      ]
     },
     "execution_count": 56,
     "metadata": {},
     "output_type": "execute_result"
    }
   ],
   "source": [
    "lines[1098]['conversation']"
   ]
  }
 ],
 "metadata": {
  "kernelspec": {
   "display_name": "Python 3",
   "language": "python",
   "name": "python3"
  },
  "language_info": {
   "codemirror_mode": {
    "name": "ipython",
    "version": 3
   },
   "file_extension": ".py",
   "mimetype": "text/x-python",
   "name": "python",
   "nbconvert_exporter": "python",
   "pygments_lexer": "ipython3",
   "version": "3.6.5"
  }
 },
 "nbformat": 4,
 "nbformat_minor": 2
}
