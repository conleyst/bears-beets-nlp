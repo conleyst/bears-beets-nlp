{
 "cells": [
  {
   "cell_type": "code",
   "execution_count": 1,
   "metadata": {},
   "outputs": [],
   "source": [
    "from bs4 import BeautifulSoup\n",
    "from urllib.request import urlopen"
   ]
  },
  {
   "cell_type": "markdown",
   "metadata": {},
   "source": [
    "Notes:\n",
    "\n",
    "All of the lines are in boxes. The div elements of the boxes are tagged `quote`. This means that we can get all of the html `div` elements with the tag `quote` by using the xpath command `response.xpath('//div[contains(@class, \"quote\")]')`. Then extract the first using `response.xpath('//div[contains(@class, \"quote\")]').extract_first()`, etc. It looks like some of the div elements with the quote tag aren't actually quotes (there's a disclaimer or something), but I can probably use BeautifulSoup to deal with that."
   ]
  },
  {
   "cell_type": "code",
   "execution_count": 2,
   "metadata": {},
   "outputs": [],
   "source": [
    "s1_1 = urlopen('http://officequotes.net/no1-01.php')\n",
    "soup = BeautifulSoup(s1_1, 'lxml')"
   ]
  },
  {
   "cell_type": "code",
   "execution_count": 3,
   "metadata": {},
   "outputs": [],
   "source": [
    "ex = soup.find_all('div', class_='quote')[2]"
   ]
  },
  {
   "cell_type": "code",
   "execution_count": 30,
   "metadata": {},
   "outputs": [],
   "source": [
    "def clean(s):\n",
    "    \"\"\"Remove described actions, whitespace padding, and colons from strings.\"\"\"\n",
    "    while s.find(\"[\")>-1:\n",
    "        start = s.find(\"[\")\n",
    "        end = s.find(\"]\")+1\n",
    "        s = s[:start] + s[end:]\n",
    "    s = s.strip()\n",
    "    s = s.replace(':', '')\n",
    "    \n",
    "    return s\n",
    "\n",
    "\n",
    "def extract_conversation(element):\n",
    "    \"\"\"Return list of character-line pairs from element.\"\"\"\n",
    "    element_strs = list(element.strings)\n",
    "    conversation = list(filter(lambda s: s!= '\\n', element_strs))\n",
    "    cleaned = list(map(clean, conversation))\n",
    "    lines = [(cleaned[i], cleaned[i+1]) for i in range(0, len(cleaned), 2)]\n",
    "    \n",
    "    return lines\n",
    "\n",
    "def extract_season_episode(s):\n",
    "    \"\"\"Return season and episode number in a tuple.\"\"\"\n",
    "    season = s[-8]\n",
    "    episode = s[-6:-4]\n",
    "    return season, episode\n",
    "    "
   ]
  },
  {
   "cell_type": "code",
   "execution_count": 32,
   "metadata": {},
   "outputs": [],
   "source": [
    "s = 'http://officequotes.net/no1-01.php'"
   ]
  },
  {
   "cell_type": "code",
   "execution_count": 34,
   "metadata": {},
   "outputs": [
    {
     "data": {
      "text/plain": [
       "'01'"
      ]
     },
     "execution_count": 34,
     "metadata": {},
     "output_type": "execute_result"
    }
   ],
   "source": [
    "s[-6:-4]"
   ]
  }
 ],
 "metadata": {
  "kernelspec": {
   "display_name": "Python 3",
   "language": "python",
   "name": "python3"
  },
  "language_info": {
   "codemirror_mode": {
    "name": "ipython",
    "version": 3
   },
   "file_extension": ".py",
   "mimetype": "text/x-python",
   "name": "python",
   "nbconvert_exporter": "python",
   "pygments_lexer": "ipython3",
   "version": "3.6.5"
  }
 },
 "nbformat": 4,
 "nbformat_minor": 2
}
